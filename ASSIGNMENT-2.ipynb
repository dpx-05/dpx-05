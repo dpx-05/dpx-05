#Write a Python program to print a dictionary whose keys should be the alphabet from a-z 
#and the value should be corresponding ASCII values
# Create the dictionary
mini_dict = {}
 
for i in range(97, 122):

    mini_dict[chr(i)] = i

print(mini_dict)
